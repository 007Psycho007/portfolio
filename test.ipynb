{
 "cells": [
  {
   "cell_type": "code",
   "execution_count": 1,
   "metadata": {},
   "outputs": [],
   "source": [
    "from main import mailsend"
   ]
  },
  {
   "cell_type": "code",
   "execution_count": 2,
   "metadata": {},
   "outputs": [],
   "source": [
    "def mailsend(subject,text,sender):\n",
    "    try:\n",
    "        context = ssl.create_default_context()\n",
    "        server = smtplib.SMTP('smtp.gmail.com','587')\n",
    "        server.ehlo() # Can be omitted\n",
    "        server.starttls(context=context) # Secure the connection\n",
    "        server.ehlo() # Can be omitted\n",
    "        server.login(secrets.mail, secrets.mail_pass)\n",
    "\n",
    "        message = MIMEMultipart(\"alternative\")\n",
    "        message[\"Subject\"] = subject\n",
    "        message[\"From\"] = sender\n",
    "        message[\"To\"] = secrets.recipient\n",
    "        message.attach(MIMEText(text, \"plain\"))\n",
    "\n",
    "        \n",
    "        \n",
    "        server.sendmail(sender, secrets.recipient, message.as_string())\n",
    "        # TODO: Send email here\n",
    "    except Exception as e:\n",
    "        # Print any error messages to stdout\n",
    "        print(e)\n",
    "    finally:\n",
    "        server.quit() "
   ]
  },
  {
   "cell_type": "code",
   "execution_count": 3,
   "metadata": {},
   "outputs": [],
   "source": [
    "mailsend(\"Testsub\",\"Testmes\",\"portfolio@janpeterhaensel.de\")"
   ]
  }
 ],
 "metadata": {
  "interpreter": {
   "hash": "048c30307d5fa3247dc9e3e29fd90db14cc7bb69994be578628f8f27bf226423"
  },
  "kernelspec": {
   "display_name": "Python 3.10.0 ('flask')",
   "language": "python",
   "name": "python3"
  },
  "language_info": {
   "codemirror_mode": {
    "name": "ipython",
    "version": 3
   },
   "file_extension": ".py",
   "mimetype": "text/x-python",
   "name": "python",
   "nbconvert_exporter": "python",
   "pygments_lexer": "ipython3",
   "version": "3.10.0"
  },
  "orig_nbformat": 4
 },
 "nbformat": 4,
 "nbformat_minor": 2
}
